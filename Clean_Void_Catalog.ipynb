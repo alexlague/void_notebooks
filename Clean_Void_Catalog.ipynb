{
 "cells": [
  {
   "cell_type": "code",
   "execution_count": 1,
   "id": "b8bea081",
   "metadata": {},
   "outputs": [],
   "source": [
    "import numpy as np\n",
    "import matplotlib.pyplot as plt\n",
    "from scipy.spatial import KDTree"
   ]
  },
  {
   "cell_type": "code",
   "execution_count": 2,
   "id": "c9b0a3a4",
   "metadata": {},
   "outputs": [],
   "source": [
    "halos = {}\n",
    "halos['lcdm'] = np.load('Trial_PP_halo_catalog_2048Mpc_n4096_M13.npy')\n",
    "halos['m26'] = np.load('Trial_PP_halo_catalog_2048Mpc_n4096_1_26_10_M13.npy')\n",
    "halos['m25'] = np.load('Trial_PP_halo_catalog_2048Mpc_n4096_1_25_10_M13.npy')\n",
    "halos['m24'] = np.load('Trial_PP_halo_catalog_2048Mpc_n4096_1_24_10_M13.npy')\n",
    "halos['m23'] = np.load('Trial_PP_halo_catalog_2048Mpc_n4096_1_23_10_M13.npy')\n",
    "\n",
    "voids = {}\n",
    "voids['lcdm'] = np.loadtxt('2048Mpc_n4096_M13zobov-Voids_cat.txt', dtype=np.float32)\n",
    "voids['m26'] = np.loadtxt('2048Mpc_n4096_1_26_10_M13zobov-Voids_cat.txt', dtype=np.float32)\n",
    "voids['m25'] = np.loadtxt('2048Mpc_n4096_1_25_10_M13zobov-Voids_cat.txt', dtype=np.float32)\n",
    "voids['m24'] = np.loadtxt('2048Mpc_n4096_1_24_10_M13zobov-Voids_cat.txt', dtype=np.float32)\n",
    "voids['m23'] = np.loadtxt('2048Mpc_n4096_1_23_10_M13zobov-Voids_cat.txt', dtype=np.float32)    \n",
    "\n",
    "hx = {}\n",
    "hy = {}\n",
    "hz = {}\n",
    "\n",
    "vx = {}\n",
    "vy = {}\n",
    "vz = {}\n",
    "vR = {}\n",
    "vdelmin = {}\n",
    "vdelavg = {}\n",
    "\n",
    "for K in halos.keys():\n",
    "    hx[K], hy[K], hz[K] = halos[K][:, :3].T + 1024 * .68\n",
    "    vx[K] = (voids[K][:,1]-1024*.68)%(2048*.68)\n",
    "    vy[K] = (voids[K][:,2]-1024*.68)%(2048*.68)\n",
    "    vz[K] = (voids[K][:,3]-1024*.68)%(2048*.68)\n",
    "    vR[K] = voids[K][:,4]\n",
    "    vdelmin[K] = voids[K][:,5]\n",
    "    vdelavg[K] = voids[K][:,6]"
   ]
  },
  {
   "cell_type": "code",
   "execution_count": 11,
   "id": "8cafe989",
   "metadata": {},
   "outputs": [],
   "source": [
    "def clean_void_catalog(sim_key, boxsize=2048*.68):\n",
    "    \n",
    "        \n",
    "    vol = boxsize**3\n",
    "    halo_mean_dens = len(halos[sim_key])/vol\n",
    "    mean_sep = (1/halo_mean_dens)**(1/3)\n",
    "        \n",
    "    ref_dens = -0.7\n",
    "        \n",
    "    pos = np.array([hx[sim_key], hy[sim_key], hz[sim_key]]).T\n",
    "    tree = KDTree(pos, boxsize=2048*.68)\n",
    "\n",
    "    pos_v = np.array([vx[sim_key], vy[sim_key], vz[sim_key]]).T\n",
    "    tree_v = KDTree(pos_v, boxsize=2048*.68)\n",
    "    \n",
    "    dist_mat = tree_v.sparse_distance_matrix(tree_v, 100, output_type='dict')\n",
    "    \n",
    "    \n",
    "    # Begin filter procedure: resize voids\n",
    "    new_radii = []\n",
    "    cs = np.linspace(0.7, 6, 100)\n",
    "\n",
    "    for void_index in range(len(vx[sim_key])):\n",
    "    \n",
    "        void_radius = vR[sim_key][void_index]\n",
    "        void_center = np.array([vx[sim_key][void_index], vy[sim_key][void_index], vz[sim_key][void_index]])\n",
    "        void_dens = tree.query_ball_point(void_center, void_radius, return_length=True)\n",
    "        void_dens /= (4*np.pi/3 * void_radius**3)\n",
    "    \n",
    "        if void_radius < 2.*mean_sep or void_dens > 0.55*halo_mean_dens:\n",
    "            new_radii.append(0)\n",
    "        else:\n",
    "            for i in range(100):\n",
    "                n_halos_in_void = tree.query_ball_point(void_center, void_radius/cs[i], return_length=True)\n",
    "                void_vol = 4*np.pi/3*(void_radius/cs[i])**3\n",
    "                void_mean_dens = n_halos_in_void/void_vol/halo_mean_dens-1\n",
    "                if void_mean_dens <= ref_dens:\n",
    "\n",
    "                    new_radii.append(void_radius/((cs[i-1]+cs[i])/2))\n",
    "                    #print(\"======\")\n",
    "                    break\n",
    "                elif i == 99:\n",
    "                    new_radii.append(0)\n",
    "                    \n",
    "    \n",
    "    # Step 2 reject voids which overlap\n",
    "    rejected = np.zeros(len(vx[sim_key]))\n",
    "    \n",
    "    for i in range(len(vx[sim_key])):\n",
    "        for j in tree_v.query_ball_point(pos_v[i], 100):\n",
    "            dist = dist_mat[(i, j)]\n",
    "            if dist == 0: dist = 1000 # very far away\n",
    "            Ri = new_radii[i]\n",
    "            Rj = new_radii[j]\n",
    "            if Ri == 0:\n",
    "                rejected[i] = 1\n",
    "            elif Rj == 0:\n",
    "                rejected[j] = 1\n",
    "            else:\n",
    "                Rt =  Ri + Rj\n",
    "                if dist/Rt < 1:\n",
    "                    if vdelmin[sim_key][i] < vdelmin[sim_key][j]: # keep more underdense void?\n",
    "                        rejected[i] = 1\n",
    "                    else:\n",
    "                        rejected[j] = 1\n",
    "                        \n",
    "    #print(len(np.array(new_radii)[rejected==0])/len(new_radii))\n",
    "    \n",
    "    return np.array(new_radii)[rejected==0]"
   ]
  },
  {
   "cell_type": "code",
   "execution_count": 81,
   "id": "27e08fb6",
   "metadata": {},
   "outputs": [
    {
     "data": {
      "text/plain": [
       "array([48.21347207, 48.65380671, 27.01057839, 49.9579603 , 29.07512878,\n",
       "       48.52307369, 44.1557385 , 36.75087439, 33.66562255, 35.2112789 ,\n",
       "       48.24670463, 52.84837229, 34.68382339, 50.33301166, 38.1166427 ,\n",
       "       38.28181502, 29.59541467, 42.91972057, 42.8609645 , 40.33843838,\n",
       "       38.96926332, 43.20676716, 35.98644976, 39.42156118, 30.450426  ,\n",
       "       35.62102296, 42.17573721, 44.25932474, 38.28278739, 35.07689445,\n",
       "       41.98295166, 36.42074281, 41.60178894, 42.18335327, 33.9799933 ,\n",
       "       23.08638216, 32.50673796, 44.29379155, 40.01508565, 33.52926601,\n",
       "       38.3198867 , 21.93937988, 33.90854473, 45.35834065, 38.81181666,\n",
       "       40.40162161, 35.46172867, 39.64539036, 30.46612502, 38.59613545,\n",
       "       39.54370301, 50.84044558, 31.0570966 , 27.76163155, 37.81709341,\n",
       "       39.01545796, 33.58056757, 31.71663063, 34.13142787, 35.91018155,\n",
       "       42.23711352, 41.81746837, 37.59316211, 17.8969341 ,  9.26865649,\n",
       "       42.15816406, 28.25620952, 31.1174536 , 32.23249093, 38.12379762,\n",
       "       36.6842731 , 33.48660392, 33.34624392, 31.94365881, 36.5038195 ,\n",
       "       37.16028061, 36.23423646, 33.58710592, 37.88890917, 19.67820693,\n",
       "       22.39194513, 33.67908259, 27.58505901, 40.10185364, 39.92119813,\n",
       "       39.07163523, 37.72349508, 37.62425225, 31.37596836, 42.49274951,\n",
       "       27.97927564, 37.87649847, 37.02757163, 36.65866106, 21.51454147,\n",
       "       37.98102225, 36.26469585, 44.58419907, 41.87439776, 17.50472324,\n",
       "       38.7908718 , 37.84042215, 40.15378225, 29.54839095, 41.40782453,\n",
       "       33.31036526, 22.45800802, 40.93584663, 33.28945362, 41.6611403 ,\n",
       "       41.75793822, 27.76256504, 31.0136627 , 32.34316517, 25.33654531,\n",
       "       35.65812963, 38.88891165, 35.96725731, 30.26290708, 25.69705281,\n",
       "       33.84460953, 42.00940695, 31.4376281 , 44.08032436, 28.28309372,\n",
       "       30.75150121, 31.89879049, 32.59098198, 34.16925283, 30.88610214,\n",
       "       27.2403679 , 32.90016669, 34.92511416, 33.08494781, 38.01715722,\n",
       "       33.48857871, 26.95658446, 31.5279843 , 27.21961793, 29.74747292,\n",
       "       35.08591252, 27.29183853, 34.60627907, 35.36129318, 40.80368681,\n",
       "       29.33774159, 34.41418951, 24.1325237 , 23.98076406, 45.20417641,\n",
       "       26.47177836, 41.60638496, 26.43603036, 34.00546024, 33.67588466,\n",
       "       23.08172573, 31.30117724, 34.15079962, 25.71370765, 32.59842777,\n",
       "       38.33858412, 26.29449117, 30.31973339, 35.89763754, 35.23392149,\n",
       "       22.29940227, 30.05057208, 28.95343339, 37.06840405, 40.25240362,\n",
       "       32.52469452, 29.05582511, 33.37269212, 36.30663823, 37.75817708,\n",
       "       24.75086096, 31.66089447, 31.91006409, 38.00310872, 35.20105966,\n",
       "       36.89426116, 32.09247356, 34.85115774, 33.4470218 , 21.49443997,\n",
       "       37.4919948 , 32.73440993, 31.75446583, 36.00832777, 16.57970348,\n",
       "       29.00414613, 32.81494783, 41.7588755 , 39.90067125, 36.0512237 ,\n",
       "       34.58901597, 19.21738435, 20.37914612, 39.04442728, 37.65812838,\n",
       "       19.50620559, 37.01810267, 34.27988737, 33.10464654, 35.35642443,\n",
       "       36.49280693, 29.02619771, 29.99105385, 34.13380654, 35.59439679,\n",
       "       30.48784447, 35.75164247, 29.16790254, 32.63407105, 34.01063436,\n",
       "       33.59506851, 34.53095613, 35.05977822, 28.66581375, 34.01236494,\n",
       "       29.97877474, 31.52329629, 33.41498965, 44.65444887, 28.42763222,\n",
       "       38.29997224, 34.06386334, 26.65354093, 26.45172498, 35.41836454,\n",
       "       35.0947354 , 26.60416725, 44.21001545, 38.99564178, 27.77047198,\n",
       "       30.83298601, 35.62618348, 34.04180122, 33.86669048, 35.23676014,\n",
       "       35.11015378, 38.98582949, 35.78988136, 31.50138173, 34.42946909,\n",
       "       30.94555872, 34.28044708, 36.21226906, 24.4228517 , 29.64280644,\n",
       "       34.9181986 , 26.72725118, 30.59907039, 13.54793688, 30.91312446,\n",
       "       21.37751689, 34.78984425, 30.61750423, 15.66596294, 36.37330169,\n",
       "       32.64878754, 18.65207597, 32.8851771 , 30.2127822 , 15.31039557,\n",
       "       34.21910547, 26.81666643, 25.14255585, 20.32727938, 36.74625099,\n",
       "       29.22589102, 25.91472307, 30.07175196, 32.65865111, 38.01419136,\n",
       "       27.63522337, 34.55785591, 17.77938757, 35.26685667, 21.42994084,\n",
       "       31.79514516, 18.692794  , 26.67109417, 23.97253548, 15.93224295,\n",
       "       29.70952503, 37.3031323 , 28.37578161, 28.5380017 , 32.77755128,\n",
       "       26.60917138, 32.6541144 , 32.1602469 , 31.7816776 , 23.83844075,\n",
       "       30.07786979, 31.71723749, 32.13574327, 27.22045473, 34.08462767,\n",
       "       23.10779044, 34.9881714 , 36.71913706, 20.09878148, 31.35365946,\n",
       "       22.60495447, 25.51648661, 29.10262498, 36.02180014, 32.45299701,\n",
       "       32.28115837, 19.98575464, 24.56134717, 37.18423626, 32.85397625,\n",
       "       29.31255574, 23.92445852, 32.31150835, 27.35345435, 34.4154298 ,\n",
       "       21.04833383, 29.5692702 , 29.11301173, 28.23872112, 32.43080733,\n",
       "       28.46127495, 29.0704326 , 25.81731559, 26.98410081, 24.96191689,\n",
       "       34.21372123, 30.57332747, 30.21432247, 32.53211424, 30.0120286 ,\n",
       "       27.55506209, 30.93647837,  9.47194057, 36.14164306, 31.94319188,\n",
       "       28.4208526 , 25.95662304, 29.93829392, 33.43230531, 34.41117441,\n",
       "       22.49201278, 26.95738064, 27.28786846, 28.66933724, 32.45196037,\n",
       "       29.89195897, 26.16508974, 23.66511092, 26.97046891, 24.98306757,\n",
       "       33.66082676, 28.3912471 , 32.16072669, 23.18149306, 24.81726754,\n",
       "       21.94634551, 37.62200936, 29.10325754, 33.0944141 , 25.77640608,\n",
       "       27.37331398, 18.3062201 , 29.82982273, 24.50349346, 39.49312818,\n",
       "       40.81474986, 18.13715822, 28.39743066, 30.76575366, 35.76709658,\n",
       "       38.53056518, 29.90996399, 27.05718775, 27.44310875, 33.52099497,\n",
       "       21.10394489, 31.73624691, 16.16021132, 36.39764915, 28.33422957,\n",
       "       29.72770598, 36.73260509, 27.42330561, 21.67199948, 31.40943464,\n",
       "       29.02261458, 27.67642371, 23.60735658, 31.29176429, 21.73245903,\n",
       "       24.69271602, 34.26792274, 37.04442944, 31.1319717 , 34.54637795,\n",
       "       29.8415743 , 29.92276002, 31.85025669, 25.51317187, 27.64915416,\n",
       "       22.77976096, 21.21002515, 22.66305753, 35.68056989, 22.99136834,\n",
       "       26.87855925, 34.2178262 , 33.75783172, 26.80997431, 29.98310448,\n",
       "       30.44888342, 24.48101037, 32.36904979, 16.29417711, 21.31961713,\n",
       "       26.02168435, 32.98885253, 28.84481496, 30.02206223, 33.43876929,\n",
       "       29.1786552 , 17.40211285, 26.37200738, 34.14136542, 17.56822363,\n",
       "       30.20560554, 33.58801651, 35.03789085, 33.30590399, 29.85291828,\n",
       "       26.26950831, 30.67067204, 19.82876173, 24.06028857, 30.40893832,\n",
       "       28.65493426, 35.75607295, 34.68387429, 32.7948796 , 29.03902496,\n",
       "       24.90087645, 27.01504514, 32.20954567, 30.93631106, 29.34025947,\n",
       "       34.57188334, 31.18520572, 30.11949889, 32.29547104, 30.77143487,\n",
       "       17.72758976, 27.88798091, 24.38996956, 25.54350414, 30.5168105 ,\n",
       "       34.21439904, 34.04815759, 26.90830749, 25.65639237, 28.62053137,\n",
       "       37.18501039, 28.81883908, 27.7671259 , 26.90358614, 25.53350706,\n",
       "       30.52924404, 27.88103068, 17.49009257, 31.55832344, 25.22144665,\n",
       "       33.40458279, 37.40581193, 26.80315666, 24.96092142, 33.25719787,\n",
       "       16.61116377, 31.33196208, 34.59156258, 26.48880898, 22.4285308 ,\n",
       "       33.98061693, 29.49914459, 22.50086356, 26.21010659, 30.6482688 ,\n",
       "       28.40653707, 28.68471404, 29.93966996, 30.1702629 , 27.78061878,\n",
       "       30.2939144 , 27.62571475, 28.83275096, 30.47092451, 28.24292426,\n",
       "       33.80893444, 25.46506554, 31.78782624, 25.92843191, 28.83755103,\n",
       "       33.14513819, 26.75689197, 30.66594162, 17.03105581, 29.42166216,\n",
       "       31.23551047, 24.96907558, 18.24479084, 26.36038452, 32.81832562,\n",
       "       26.33997358, 27.28968315, 31.95235136, 22.46389712, 30.49104623,\n",
       "       33.87974864, 28.97765786, 22.53238772, 24.75386476, 21.37994766,\n",
       "       29.62270903, 26.13881288, 19.99521915, 35.15621062, 35.30888517,\n",
       "       31.71358888, 31.07991802, 28.15529269, 33.568396  , 36.67676883,\n",
       "       21.62177001, 15.180285  , 24.12079747, 19.19978797, 31.4258057 ,\n",
       "       28.69831117, 16.42292506, 27.68147278, 30.29477969, 27.22321821,\n",
       "       16.09228256, 28.67060876, 27.36656511, 19.30105229, 31.57340854,\n",
       "       35.84517299, 23.27285118, 29.13105243, 21.22345058, 27.41438645,\n",
       "       33.34988025, 26.4525237 , 29.470318  , 24.85559537, 26.85949167,\n",
       "       27.09059061, 30.61891204, 30.74855474, 11.85249504, 27.67059408,\n",
       "       22.33105425, 25.85249173, 26.50551927, 38.51580692, 32.34726319,\n",
       "       17.78902204, 25.02658076, 28.76823379, 21.26857387, 20.83407142,\n",
       "       26.93735052, 24.87616493, 20.51447304, 14.75376457, 23.44792375,\n",
       "       35.08750835, 28.68089563, 22.59252946, 27.56416209, 26.21222103,\n",
       "       27.57022241, 26.88280769, 21.47865414, 35.09716786, 25.81606257,\n",
       "       17.0110872 , 27.44764719, 27.15984183, 27.63429   , 27.62195377,\n",
       "       30.79639352, 27.57368686, 32.29944027, 26.51745493, 25.88340878,\n",
       "       28.65326022, 27.12922542, 29.00745397, 26.97111489, 22.86172593,\n",
       "       19.65924798, 22.06892808, 25.19250863, 29.81252674, 21.26804673,\n",
       "       27.76501941, 31.8615687 , 30.88960935, 24.15061296, 30.55609439,\n",
       "       22.75808634, 23.45003122, 30.78739905, 29.29433339, 31.31924879,\n",
       "       29.62652562, 23.75215487, 27.25508604, 23.85347978, 33.81941938,\n",
       "       31.47385453, 24.92519714, 32.6089645 , 26.18123351, 24.99997559,\n",
       "       26.37541053, 28.64918512, 29.42804834, 33.6933989 , 31.38896429,\n",
       "       24.65757279, 26.09495396, 25.03421689, 27.05509401, 16.78501099,\n",
       "       16.76390264, 22.28394665, 26.02397028, 30.05315001, 12.52264064,\n",
       "       18.881964  , 23.53577747, 30.77397416, 22.51212227, 23.85272934,\n",
       "       36.07273573, 28.9528475 , 25.42156342, 21.99983751, 24.85626775,\n",
       "       20.09568713, 27.54511586, 21.72038908, 24.421405  , 24.42950795,\n",
       "       16.05922687, 27.72000005, 23.15161152, 34.46345116, 25.62747144,\n",
       "       20.75175985, 27.54425057, 30.99117343, 31.98916461, 31.34863663,\n",
       "       28.27469092, 28.57253323, 10.13895258, 19.7036661 , 22.98874204,\n",
       "       23.49341927, 23.27358114, 21.45553184, 21.11367381, 36.61140294,\n",
       "       30.28192481, 32.17845456, 24.12179659, 22.07944736, 33.70122899,\n",
       "       30.34791407, 15.43082933, 18.76754046, 13.69564908, 27.59562528,\n",
       "       16.10487106, 25.11116191, 22.56637792, 29.08771316, 22.63418505,\n",
       "       30.54066556, 15.7801534 , 14.7844103 , 21.39130991, 29.15456864,\n",
       "       15.85995194, 25.68755579, 20.93191179, 27.29785442, 27.7131582 ,\n",
       "       22.4117601 , 32.4303381 , 30.66948323, 30.61346473, 27.66125345,\n",
       "       26.94140478, 25.41979116, 19.41784362, 25.20879989, 30.47918829,\n",
       "       26.52201603, 24.44218561, 21.27663141, 13.70529621, 23.2446685 ,\n",
       "       29.91152851, 21.91727259, 27.4830543 , 28.7390028 , 28.9461678 ,\n",
       "       22.31316163, 29.65801386, 28.05862411, 16.05544732, 22.94747792,\n",
       "       21.08364694, 16.2230285 , 24.09747445, 27.6746073 , 24.92519714,\n",
       "       28.50346572, 18.85443992, 22.65862056, 15.5750386 , 27.28711819,\n",
       "       27.61004875, 22.95942556, 17.23403439])"
      ]
     },
     "execution_count": 81,
     "metadata": {},
     "output_type": "execute_result"
    }
   ],
   "source": [
    "clean_void_catalog('m26') #- np.array(new_radii)[rejected==0]"
   ]
  },
  {
   "cell_type": "code",
   "execution_count": 3,
   "id": "c277f0f4",
   "metadata": {},
   "outputs": [],
   "source": []
  },
  {
   "cell_type": "code",
   "execution_count": 4,
   "id": "55d04e80",
   "metadata": {},
   "outputs": [],
   "source": []
  },
  {
   "cell_type": "code",
   "execution_count": 5,
   "id": "a56cef1f",
   "metadata": {},
   "outputs": [],
   "source": [
    "#plt.hist(vdelmin['lcdm'], bins=50)"
   ]
  },
  {
   "cell_type": "code",
   "execution_count": 6,
   "id": "f358a8b7",
   "metadata": {},
   "outputs": [],
   "source": []
  },
  {
   "cell_type": "code",
   "execution_count": 7,
   "id": "06aca08e",
   "metadata": {},
   "outputs": [],
   "source": []
  },
  {
   "cell_type": "code",
   "execution_count": 8,
   "id": "548b1827",
   "metadata": {},
   "outputs": [
    {
     "data": {
      "text/plain": [
       "0.00014307031049394064"
      ]
     },
     "execution_count": 8,
     "metadata": {},
     "output_type": "execute_result"
    }
   ],
   "source": [
    "0.2*halo_mean_dens"
   ]
  },
  {
   "cell_type": "code",
   "execution_count": 9,
   "id": "2a74f0bd",
   "metadata": {},
   "outputs": [],
   "source": []
  },
  {
   "cell_type": "code",
   "execution_count": 10,
   "id": "e67993d3",
   "metadata": {},
   "outputs": [],
   "source": []
  },
  {
   "cell_type": "code",
   "execution_count": 4,
   "id": "3bfbe456",
   "metadata": {},
   "outputs": [
    {
     "data": {
      "text/plain": [
       "'%%time\\n\\nnew_radii = []\\ncs = np.linspace(0.7, 6, 100)\\n\\nfor void_index in range(len(vx[\\'lcdm\\'])):\\n    \\n    void_radius = vR[\\'lcdm\\'][void_index]\\n    void_center = np.array([vx[\\'lcdm\\'][void_index], vy[\\'lcdm\\'][void_index], vz[\\'lcdm\\'][void_index]])\\n    void_dens = tree.query_ball_point(void_center, void_radius, return_length=True)\\n    void_dens /= (4*np.pi/3 * void_radius**3)\\n    \\n    if void_radius < 2.3*mean_sep or void_dens > 0.55*halo_mean_dens:\\n        new_radii.append(0)\\n    else:\\n        \\n    \\n\\n        for i in range(100):\\n            n_halos_in_void = tree.query_ball_point(void_center, void_radius/cs[i], return_length=True)\\n            void_vol = 4*np.pi/3*(void_radius/cs[i])**3\\n            void_mean_dens = n_halos_in_void/void_vol/halo_mean_dens-1\\n            #print(vdelavg[\\'lcdm\\'][void_index], void_mean_dens)\\n            if void_mean_dens <= ref_dens:\\n            \\n                new_radii.append(void_radius/((cs[i-1]+cs[i])/2))\\n                #print(\"======\")\\n                break\\n            elif i == 99:\\n                new_radii.append(0)\\n                \\n                \\n    \\n   '"
      ]
     },
     "execution_count": 4,
     "metadata": {},
     "output_type": "execute_result"
    }
   ],
   "source": [
    "'''%%time\n",
    "\n",
    "new_radii = []\n",
    "cs = np.linspace(0.7, 6, 100)\n",
    "\n",
    "for void_index in range(len(vx['lcdm'])):\n",
    "    \n",
    "    void_radius = vR['lcdm'][void_index]\n",
    "    void_center = np.array([vx['lcdm'][void_index], vy['lcdm'][void_index], vz['lcdm'][void_index]])\n",
    "    void_dens = tree.query_ball_point(void_center, void_radius, return_length=True)\n",
    "    void_dens /= (4*np.pi/3 * void_radius**3)\n",
    "    \n",
    "    if void_radius < 2.3*mean_sep or void_dens > 0.55*halo_mean_dens:\n",
    "        new_radii.append(0)\n",
    "    else:\n",
    "        \n",
    "    \n",
    "\n",
    "        for i in range(100):\n",
    "            n_halos_in_void = tree.query_ball_point(void_center, void_radius/cs[i], return_length=True)\n",
    "            void_vol = 4*np.pi/3*(void_radius/cs[i])**3\n",
    "            void_mean_dens = n_halos_in_void/void_vol/halo_mean_dens-1\n",
    "            #print(vdelavg['lcdm'][void_index], void_mean_dens)\n",
    "            if void_mean_dens <= ref_dens:\n",
    "            \n",
    "                new_radii.append(void_radius/((cs[i-1]+cs[i])/2))\n",
    "                #print(\"======\")\n",
    "                break\n",
    "            elif i == 99:\n",
    "                new_radii.append(0)\n",
    "                \n",
    "                \n",
    "    \n",
    "   '''"
   ]
  },
  {
   "cell_type": "code",
   "execution_count": 70,
   "id": "4d6d60b0",
   "metadata": {},
   "outputs": [
    {
     "data": {
      "text/plain": [
       "0.08215978108522992"
      ]
     },
     "execution_count": 70,
     "metadata": {},
     "output_type": "execute_result"
    }
   ],
   "source": [
    "#len(np.array(new_radii)[np.array(new_radii)>0])/len(new_radii)"
   ]
  },
  {
   "cell_type": "code",
   "execution_count": 63,
   "id": "ad9b6ed7",
   "metadata": {},
   "outputs": [],
   "source": []
  },
  {
   "cell_type": "code",
   "execution_count": 17,
   "id": "3646cf52",
   "metadata": {},
   "outputs": [],
   "source": [
    "#dist_mat = tree_v.sparse_distance_matrix(tree_v, 100, output_type='dict')"
   ]
  },
  {
   "cell_type": "code",
   "execution_count": 5,
   "id": "28d1bb46",
   "metadata": {
    "scrolled": true
   },
   "outputs": [
    {
     "data": {
      "text/plain": [
       "\"rejected = np.zeros(len(vx['lcdm']))\\n\\nfor i in range(len(vx['lcdm'])):\\n    if i % 1000 == 0:\\n        print(str(i/14983))\\n    for j in tree_v.query_ball_point(pos_v[i], 100):\\n        dist = dist_mat[(i, j)]\\n        if dist == 0: dist = 1000 # very far away\\n        Ri = new_radii[i]\\n        Rj = new_radii[j]\\n        if Ri == 0:\\n            rejected[i] = 1\\n        elif Rj == 0:\\n            rejected[j] = 1\\n        else:\\n            Rt =  Ri + Rj\\n            if dist/Rt < 1:\\n                if vdelmin['lcdm'][i] < vdelmin['lcdm'][j]: # keep more underdense void?\\n                    rejected[i] = 1\\n                else:\\n                    rejected[j] = 1\""
      ]
     },
     "execution_count": 5,
     "metadata": {},
     "output_type": "execute_result"
    }
   ],
   "source": [
    "\n",
    "\n",
    "\n",
    "'''rejected = np.zeros(len(vx['lcdm']))\n",
    "\n",
    "for i in range(len(vx['lcdm'])):\n",
    "    if i % 1000 == 0:\n",
    "        print(str(i/14983))\n",
    "    for j in tree_v.query_ball_point(pos_v[i], 100):\n",
    "        dist = dist_mat[(i, j)]\n",
    "        if dist == 0: dist = 1000 # very far away\n",
    "        Ri = new_radii[i]\n",
    "        Rj = new_radii[j]\n",
    "        if Ri == 0:\n",
    "            rejected[i] = 1\n",
    "        elif Rj == 0:\n",
    "            rejected[j] = 1\n",
    "        else:\n",
    "            Rt =  Ri + Rj\n",
    "            if dist/Rt < 1:\n",
    "                if vdelmin['lcdm'][i] < vdelmin['lcdm'][j]: # keep more underdense void?\n",
    "                    rejected[i] = 1\n",
    "                else:\n",
    "                    rejected[j] = 1'''"
   ]
  },
  {
   "cell_type": "code",
   "execution_count": 65,
   "id": "147b2ce2",
   "metadata": {},
   "outputs": [
    {
     "data": {
      "text/plain": [
       "0.9337248882066342"
      ]
     },
     "execution_count": 65,
     "metadata": {},
     "output_type": "execute_result"
    }
   ],
   "source": [
    "len(rejected[rejected>0])/len(vx['lcdm'])"
   ]
  },
  {
   "cell_type": "code",
   "execution_count": 20,
   "id": "cce0282e",
   "metadata": {},
   "outputs": [
    {
     "data": {
      "text/plain": [
       "(14983, 14983)"
      ]
     },
     "execution_count": 20,
     "metadata": {},
     "output_type": "execute_result"
    }
   ],
   "source": [
    "len(new_radii), len(vx['lcdm'])"
   ]
  },
  {
   "cell_type": "code",
   "execution_count": 43,
   "id": "32dd089f",
   "metadata": {},
   "outputs": [
    {
     "data": {
      "text/plain": [
       "<matplotlib.collections.PathCollection at 0x7f8f8d38d2e0>"
      ]
     },
     "execution_count": 43,
     "metadata": {},
     "output_type": "execute_result"
    },
    {
     "data": {
      "image/png": "[encoded data removed]",
      "text/plain": [
       "<Figure size 640x480 with 1 Axes>"
      ]
     },
     "metadata": {},
     "output_type": "display_data"
    }
   ],
   "source": [
    "plt.scatter(voids['lcdm'][:,4], new_radii)"
   ]
  },
  {
   "cell_type": "code",
   "execution_count": 51,
   "id": "1ae8082d",
   "metadata": {},
   "outputs": [
    {
     "data": {
      "text/plain": [
       "<matplotlib.collections.PathCollection at 0x7f8f8d3460a0>"
      ]
     },
     "execution_count": 51,
     "metadata": {},
     "output_type": "execute_result"
    },
    {
     "data": {
      "image/png": "[encoded data removed]",
      "text/plain": [
       "<Figure size 640x480 with 1 Axes>"
      ]
     },
     "metadata": {},
     "output_type": "display_data"
    }
   ],
   "source": [
    "plt.scatter(voids['lcdm'][:,4], new_radii/voids['lcdm'][:,4])"
   ]
  },
  {
   "cell_type": "code",
   "execution_count": 66,
   "id": "d576f725",
   "metadata": {},
   "outputs": [
    {
     "data": {
      "text/plain": [
       "(0.06627511179336582, 0.06875125275606334)"
      ]
     },
     "execution_count": 66,
     "metadata": {},
     "output_type": "execute_result"
    }
   ],
   "source": [
    "len(np.array(new_radii)[rejected==0])/len(new_radii), 343/4989"
   ]
  },
  {
   "cell_type": "code",
   "execution_count": 82,
   "id": "e217a033",
   "metadata": {},
   "outputs": [
    {
     "data": {
      "text/plain": [
       "[<matplotlib.lines.Line2D at 0x7fd2791e47f0>]"
      ]
     },
     "execution_count": 82,
     "metadata": {},
     "output_type": "execute_result"
    },
    {
     "data": {
      "image/png": "[encoded data removed]",
      "text/plain": [
       "<Figure size 640x480 with 1 Axes>"
      ]
     },
     "metadata": {},
     "output_type": "display_data"
    }
   ],
   "source": [
    "bin_edges    = np.geomspace(25, 40, 11)\n",
    "bin_cens     = (bin_edges[:-1] + bin_edges[1:]) / 2#np.geomspace(25, 40, 10)\n",
    "hist_void    = np.histogram(np.array(new_radii)[rejected==0], bins=bin_edges)\n",
    "n_of_R_void  = np.cumsum(hist_void[0]/(2048*.68)**3)\n",
    "dn_dlnR_void = np.gradient(n_of_R_void, np.log(bin_cens))\n",
    "\n",
    "plt.semilogy(bin_cens, dn_dlnR_void, '-o')"
   ]
  },
  {
   "cell_type": "code",
   "execution_count": 12,
   "id": "74e048b5",
   "metadata": {},
   "outputs": [
    {
     "data": {
      "text/plain": [
       "[<matplotlib.lines.Line2D at 0x7f884d5ee310>]"
      ]
     },
     "execution_count": 12,
     "metadata": {},
     "output_type": "execute_result"
    },
    {
     "data": {
      "image/png": "[encoded data removed]",
      "text/plain": [
       "<Figure size 640x480 with 1 Axes>"
      ]
     },
     "metadata": {},
     "output_type": "display_data"
    }
   ],
   "source": [
    "bin_edges    = np.geomspace(25, 40, 11)\n",
    "bin_cens     = (bin_edges[:-1] + bin_edges[1:]) / 2#np.geomspace(25, 40, 10)\n",
    "hist_void    = np.histogram(clean_void_catalog('lcdm'), bins=bin_edges)\n",
    "n_of_R_void  = np.cumsum(hist_void[0]/(2048*.68)**3)\n",
    "dn_dlnR_void = np.gradient(n_of_R_void, np.log(bin_cens))\n",
    "\n",
    "plt.semilogy(bin_cens, dn_dlnR_void, '-o')\n",
    "\n",
    "bin_edges    = np.geomspace(25, 40, 11)\n",
    "bin_cens     = (bin_edges[:-1] + bin_edges[1:]) / 2#np.geomspace(25, 40, 10)\n",
    "hist_void    = np.histogram(clean_void_catalog('m25'), bins=bin_edges)\n",
    "n_of_R_void  = np.cumsum(hist_void[0]/(2048*.68)**3)\n",
    "dn_dlnR_void = np.gradient(n_of_R_void, np.log(bin_cens))\n",
    "\n",
    "plt.semilogy(bin_cens, dn_dlnR_void, '-o')\n"
   ]
  },
  {
   "cell_type": "code",
   "execution_count": 13,
   "id": "f410e853",
   "metadata": {},
   "outputs": [],
   "source": [
    "#np.savetxt('test_new_radii_lcdm.dat', np.array(new_radii)[rejected==0])\n",
    "np.savetxt('test_new_radii_m25.dat', clean_void_catalog('m25'))\n",
    "np.savetxt('test_new_radii_lcdm.dat', clean_void_catalog('lcdm'))"
   ]
  }
 ],
 "metadata": {
  "kernelspec": {
   "display_name": "Python 3 (ipykernel)",
   "language": "python",
   "name": "python3"
  },
  "language_info": {
   "codemirror_mode": {
    "name": "ipython",
    "version": 3
   },
   "file_extension": ".py",
   "mimetype": "text/x-python",
   "name": "python",
   "nbconvert_exporter": "python",
   "pygments_lexer": "ipython3",
   "version": "3.9.13"
  }
 },
 "nbformat": 4,
 "nbformat_minor": 5
}
