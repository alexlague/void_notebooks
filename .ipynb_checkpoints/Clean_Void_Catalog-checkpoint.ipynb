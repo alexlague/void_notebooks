{
 "cells": [
  {
   "cell_type": "code",
   "execution_count": 1,
   "id": "b8bea081",
   "metadata": {},
   "outputs": [],
   "source": [
    "import numpy as np\n",
    "import matplotlib.pyplot as plt\n",
    "from scipy.spatial import KDTree"
   ]
  },
  {
   "cell_type": "code",
   "execution_count": 2,
   "id": "c9b0a3a4",
   "metadata": {},
   "outputs": [],
   "source": [
    "halos = {}\n",
    "halos['lcdm'] = np.load('../Trial_PP_halo_catalog_2048Mpc_n4096_M13.npy')\n",
    "halos['m26'] = np.load('../Trial_PP_halo_catalog_2048Mpc_n4096_1_26_10_M13.npy')\n",
    "halos['m25'] = np.load('../Trial_PP_halo_catalog_2048Mpc_n4096_1_25_10_M13.npy')\n",
    "halos['m24'] = np.load('../Trial_PP_halo_catalog_2048Mpc_n4096_1_24_10_M13.npy')\n",
    "halos['m23'] = np.load('../Trial_PP_halo_catalog_2048Mpc_n4096_1_23_10_M13.npy')\n",
    "\n",
    "voids = {}\n",
    "voids['lcdm'] = np.loadtxt('../2048Mpc_n4096_M13zobov-Voids_cat.txt', dtype=np.float32)\n",
    "voids['m26'] = np.loadtxt('../2048Mpc_n4096_1_26_10_M13zobov-Voids_cat.txt', dtype=np.float32)\n",
    "voids['m25'] = np.loadtxt('../2048Mpc_n4096_1_25_10_M13zobov-Voids_cat.txt', dtype=np.float32)\n",
    "voids['m24'] = np.loadtxt('../2048Mpc_n4096_1_24_10_M13zobov-Voids_cat.txt', dtype=np.float32)\n",
    "voids['m23'] = np.loadtxt('../2048Mpc_n4096_1_23_10_M13zobov-Voids_cat.txt', dtype=np.float32)    \n",
    "\n",
    "hx = {}\n",
    "hy = {}\n",
    "hz = {}\n",
    "\n",
    "vx = {}\n",
    "vy = {}\n",
    "vz = {}\n",
    "vR = {}\n",
    "vdelmin = {}\n",
    "vdelavg = {}\n",
    "\n",
    "for K in halos.keys():\n",
    "    hx[K], hy[K], hz[K] = halos[K][:, :3].T + 1024 * .68\n",
    "    vx[K] = (voids[K][:,1]-1024*.68)%(2048*.68)\n",
    "    vy[K] = (voids[K][:,2]-1024*.68)%(2048*.68)\n",
    "    vz[K] = (voids[K][:,3]-1024*.68)%(2048*.68)\n",
    "    vR[K] = voids[K][:,4]\n",
    "    vdelmin[K] = voids[K][:,5]\n",
    "    vdelavg[K] = voids[K][:,6]"
   ]
  },
  {
   "cell_type": "code",
   "execution_count": 3,
   "id": "8cafe989",
   "metadata": {},
   "outputs": [],
   "source": [
    "def clean_void_catalog(sim_key, boxsize=2048*.68):\n",
    "    \n",
    "        \n",
    "    vol = boxsize**3\n",
    "    halo_mean_dens = len(halos[sim_key])/vol\n",
    "    mean_sep = (1/halo_mean_dens)**(1/3)\n",
    "        \n",
    "    ref_dens = -0.7\n",
    "        \n",
    "    pos = np.array([hx[sim_key], hy[sim_key], hz[sim_key]]).T\n",
    "    tree = KDTree(pos, boxsize=2048*.68)\n",
    "\n",
    "    pos_v = np.array([vx[sim_key], vy[sim_key], vz[sim_key]]).T\n",
    "    tree_v = KDTree(pos_v, boxsize=2048*.68)\n",
    "    \n",
    "    dist_mat = tree_v.sparse_distance_matrix(tree_v, 100, output_type='dict')\n",
    "    \n",
    "    \n",
    "    # Begin filter procedure: resize voids\n",
    "    new_radii = []\n",
    "    cs = np.linspace(0.7, 6, 100)\n",
    "\n",
    "    for void_index in range(len(vx[sim_key])):\n",
    "    \n",
    "        void_radius = vR[sim_key][void_index]\n",
    "        void_center = np.array([vx[sim_key][void_index], vy[sim_key][void_index], vz[sim_key][void_index]])\n",
    "        void_dens = tree.query_ball_point(void_center, void_radius, return_length=True)\n",
    "        void_dens /= (4*np.pi/3 * void_radius**3)\n",
    "    \n",
    "        if void_radius < 2.*mean_sep or void_dens > .7*halo_mean_dens:\n",
    "        #if void_radius < 2.*mean_sep or void_dens > .55*halo_mean_dens:\n",
    "            new_radii.append(0)\n",
    "        else:\n",
    "            for i in range(100):\n",
    "                n_halos_in_void = tree.query_ball_point(void_center, void_radius/cs[i], return_length=True)\n",
    "                void_vol = 4*np.pi/3*(void_radius/cs[i])**3\n",
    "                void_mean_dens = n_halos_in_void/void_vol/halo_mean_dens-1\n",
    "                if void_mean_dens <= ref_dens:\n",
    "\n",
    "                    new_radii.append(void_radius/((cs[i-1]+cs[i])/2))\n",
    "                    #print(\"======\")\n",
    "                    break\n",
    "                elif i == 99:\n",
    "                    new_radii.append(0)\n",
    "    \n",
    "    # Step 2 reject voids which overlap\n",
    "    rejected = np.zeros(len(vx[sim_key]))\n",
    "    \n",
    "    for i in range(len(vx[sim_key])):\n",
    "        for j in tree_v.query_ball_point(pos_v[i], 100):\n",
    "            dist = dist_mat[(i, j)]\n",
    "            if dist == 0: dist = 1000 # very far away\n",
    "            Ri = new_radii[i]\n",
    "            Rj = new_radii[j]\n",
    "            if Ri == 0:\n",
    "                rejected[i] = 1\n",
    "            elif Rj == 0:\n",
    "                rejected[j] = 1\n",
    "            else:\n",
    "                Rt =  Ri + Rj\n",
    "                if dist/Rt < 1:\n",
    "                    if vdelmin[sim_key][i] < vdelmin[sim_key][j]: # keep more underdense void?\n",
    "                        rejected[i] = 1\n",
    "                    else:\n",
    "                        rejected[j] = 1\n",
    "    \n",
    "    \n",
    "    return np.array(new_radii)[rejected==0], rejected"
   ]
  },
  {
   "cell_type": "code",
   "execution_count": 4,
   "id": "d576f725",
   "metadata": {},
   "outputs": [
    {
     "data": {
      "text/plain": [
       "(0.19822465460855637, 0.06875125275606334)"
      ]
     },
     "execution_count": 4,
     "metadata": {},
     "output_type": "execute_result"
    }
   ],
   "source": [
    "len(np.array(clean_void_catalog('lcdm')[0]))/len(vx['lcdm']), 343/4989"
   ]
  },
  {
   "cell_type": "code",
   "execution_count": 135,
   "id": "74e048b5",
   "metadata": {},
   "outputs": [
    {
     "data": {
      "text/plain": [
       "[<matplotlib.lines.Line2D at 0x7faa1ccf8670>]"
      ]
     },
     "execution_count": 135,
     "metadata": {},
     "output_type": "execute_result"
    },
    {
     "data": {
      "image/png": "[encoded data removed]",
      "text/plain": [
       "<Figure size 640x480 with 1 Axes>"
      ]
     },
     "metadata": {},
     "output_type": "display_data"
    }
   ],
   "source": [
    "bin_edges    = np.geomspace(25, 40, 11)\n",
    "bin_cens     = (bin_edges[:-1] + bin_edges[1:]) / 2#np.geomspace(25, 40, 10)\n",
    "hist_void    = np.histogram(clean_void_catalog('lcdm')[0], bins=bin_edges)\n",
    "n_of_R_void  = np.cumsum(hist_void[0]/(2048*.68)**3)\n",
    "dn_dlnR_void = np.gradient(n_of_R_void, np.log(bin_cens))\n",
    "\n",
    "plt.semilogy(bin_cens, dn_dlnR_void, '-o')\n",
    "\n",
    "bin_edges    = np.geomspace(25, 40, 11)\n",
    "bin_cens     = (bin_edges[:-1] + bin_edges[1:]) / 2#np.geomspace(25, 40, 10)\n",
    "hist_void    = np.histogram(clean_void_catalog('m25')[0], bins=bin_edges)\n",
    "n_of_R_void  = np.cumsum(hist_void[0]/(2048*.68)**3)\n",
    "dn_dlnR_void = np.gradient(n_of_R_void, np.log(bin_cens))\n",
    "\n",
    "plt.semilogy(bin_cens, dn_dlnR_void, '-o')\n"
   ]
  },
  {
   "cell_type": "code",
   "execution_count": 136,
   "id": "f410e853",
   "metadata": {},
   "outputs": [],
   "source": [
    "#np.savetxt('test_new_radii_lcdm.dat', np.array(new_radii)[rejected==0])\n",
    "np.savetxt('test_new_radii_m25.dat', clean_void_catalog('m25')[0])\n",
    "np.savetxt('test_new_radii_m25_rejected_voids.dat', clean_void_catalog('m25')[1])\n",
    "np.savetxt('test_new_radii_lcdm.dat', clean_void_catalog('lcdm')[0])\n",
    "np.savetxt('test_new_radii_lcdm_rejected_voids.dat', clean_void_catalog('lcdm')[1])"
   ]
  },
  {
   "cell_type": "code",
   "execution_count": 137,
   "id": "94f5867f",
   "metadata": {},
   "outputs": [
    {
     "data": {
      "text/plain": [
       "(2970,)"
      ]
     },
     "execution_count": 137,
     "metadata": {},
     "output_type": "execute_result"
    }
   ],
   "source": [
    "np.loadtxt('test_new_radii_lcdm.dat').shape"
   ]
  },
  {
   "cell_type": "code",
   "execution_count": 138,
   "id": "1eb4e6a3",
   "metadata": {},
   "outputs": [
    {
     "data": {
      "text/plain": [
       "(1.0, 300.0)"
      ]
     },
     "execution_count": 138,
     "metadata": {},
     "output_type": "execute_result"
    },
    {
     "data": {
      "image/png": "[encoded data removed]",
      "text/plain": [
       "<Figure size 640x480 with 1 Axes>"
      ]
     },
     "metadata": {},
     "output_type": "display_data"
    }
   ],
   "source": [
    "bin_edges = np.geomspace(25, 40, 11)\n",
    "N_data = np.histogram(np.loadtxt('test_new_radii_lcdm.dat'), bins=bin_edges)[0]\n",
    "plt.semilogy(N_data, 'o-')\n",
    "plt.grid(which='both')\n",
    "plt.ylim(1e0, 3e2)"
   ]
  },
  {
   "cell_type": "code",
   "execution_count": null,
   "id": "ead4c82e",
   "metadata": {},
   "outputs": [],
   "source": []
  },
  {
   "cell_type": "code",
   "execution_count": null,
   "id": "f9b720ec",
   "metadata": {},
   "outputs": [],
   "source": []
  }
 ],
 "metadata": {
  "kernelspec": {
   "display_name": "Python 3 (ipykernel)",
   "language": "python",
   "name": "python3"
  },
  "language_info": {
   "codemirror_mode": {
    "name": "ipython",
    "version": 3
   },
   "file_extension": ".py",
   "mimetype": "text/x-python",
   "name": "python",
   "nbconvert_exporter": "python",
   "pygments_lexer": "ipython3",
   "version": "3.9.13"
  }
 },
 "nbformat": 4,
 "nbformat_minor": 5
}
